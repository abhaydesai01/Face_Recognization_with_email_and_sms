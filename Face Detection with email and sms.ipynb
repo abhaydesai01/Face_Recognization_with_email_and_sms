{
 "cells": [
  {
   "cell_type": "code",
   "execution_count": 1,
   "metadata": {},
   "outputs": [],
   "source": [
    "import cv2\n",
    "import numpy as np"
   ]
  },
  {
   "cell_type": "code",
   "execution_count": 2,
   "metadata": {},
   "outputs": [],
   "source": [
    "cap = cv2.VideoCapture(0)"
   ]
  },
  {
   "cell_type": "code",
   "execution_count": 3,
   "metadata": {},
   "outputs": [
    {
     "data": {
      "text/plain": [
       "<CascadeClassifier 0000022FB6E71F70>"
      ]
     },
     "execution_count": 3,
     "metadata": {},
     "output_type": "execute_result"
    }
   ],
   "source": [
    "model = cv2.CascadeClassifier('haarcascade_frontalface_default.xml')\n",
    "model"
   ]
  },
  {
   "cell_type": "code",
   "execution_count": 4,
   "metadata": {},
   "outputs": [],
   "source": [
    "while True:\n",
    "    ret, photo = cap.read()\n",
    "    faces =  model.detectMultiScale(photo)\n",
    "    if  len(faces) == 0:\n",
    "        pass\n",
    "    else:\n",
    "        x1=faces[0][0]\n",
    "        y1=faces[0][1]\n",
    "        x2=x1 + faces[0][2]\n",
    "        y2=y1 + faces[0][3]\n",
    "\n",
    "        aphoto = cv2.rectangle(photo, (x1,y1),(x2,y2), [0,255,0], 5 )\n",
    "        cv2.imshow('hi', aphoto)\n",
    "        if cv2.waitKey(200) == 13:\n",
    "            break\n",
    "        \n",
    "        \n",
    "cv2.destroyAllWindows()"
   ]
  },
  {
   "cell_type": "code",
   "execution_count": 5,
   "metadata": {},
   "outputs": [],
   "source": [
    "from PIL import Image"
   ]
  },
  {
   "cell_type": "code",
   "execution_count": 6,
   "metadata": {},
   "outputs": [],
   "source": [
    "img = Image.fromarray(aphoto ,\"RGB\")\n",
    "img.save('fullphoto.png')\n",
    "img.show()\n",
    "im = Image.open(r\"fullphoto.png\")\n",
    "im1 = im.crop((x1, y1, x2, y2))\n",
    "im1.show()\n",
    "im1.save('cropphoto.png')\n",
    "\n",
    "\n"
   ]
  },
  {
   "cell_type": "code",
   "execution_count": 7,
   "metadata": {},
   "outputs": [],
   "source": [
    "import smtplib\n",
    "from email.mime.text import MIMEText\n",
    "from email.mime.image import MIMEImage\n",
    "from email.mime.multipart import MIMEMultipart"
   ]
  },
  {
   "cell_type": "code",
   "execution_count": 8,
   "metadata": {},
   "outputs": [],
   "source": [
    "#sender =\"abhay.desai012@gmail.com\"\n",
    "#recevier = \"abhay.desai0001@gmail.com\"\n",
    "#passw = \"saafbohxfwjqdyal\"\n",
    "#message = \"face detected , alert\"\n",
    "#server = smtplib.SMTP('smtp.gmail.com',587)\n",
    "#server.starttls()\n",
    "#server.login(sender , passw)\n",
    "#print('login')\n",
    "#server.sendmail(sender , recevier ,  message)\n",
    "#print('email sent' , recevier)"
   ]
  },
  {
   "cell_type": "code",
   "execution_count": 9,
   "metadata": {},
   "outputs": [],
   "source": [
    "import smtplib\n",
    "import imghdr\n",
    "from email.message import EmailMessage"
   ]
  },
  {
   "cell_type": "code",
   "execution_count": 10,
   "metadata": {},
   "outputs": [],
   "source": [
    "Sender = \"abhay.desai012@gmail.com\"\n",
    "Reciever = \"abhay.desai0001@gmail.com\"\n",
    "Password = \"saafbohxfwjqdyal\"\n",
    "mes = EmailMessage()\n",
    "mes['Subject'] = \"Check out the new logo\" \n",
    "mes['From'] = Sender                 \n",
    "mes['To'] = Reciever                  \n",
    "mes.set_content('security alert face detecd. Image attached!') \n",
    "with open('cropphoto.png', 'rb') as f:\n",
    "    image_data = f.read()\n",
    "    image_type = imghdr.what(f.name)\n",
    "    image_name = f.name\n",
    "\n",
    "mes.add_attachment(image_data, maintype='image', subtype=image_type, filename=image_name)\n",
    "\n",
    "with smtplib.SMTP_SSL('smtp.gmail.com', 465) as smtp:\n",
    "    \n",
    "    smtp.login(Sender, Password)              \n",
    "    smtp.send_message(mes) \n"
   ]
  },
  {
   "cell_type": "code",
   "execution_count": 11,
   "metadata": {},
   "outputs": [
    {
     "name": "stdout",
     "output_type": "stream",
     "text": [
      "SMf19d8ab51d8a4d77821e36629234e19f\n"
     ]
    }
   ],
   "source": [
    "from twilio.rest import Client\n",
    "account_sid = \"ACaba5ee85919fca20fefadfac5da55df5\"\n",
    "auth_token = \"97b7c9c8be4208c680cecef3ea38b10f\"\n",
    "client = Client(account_sid, auth_token)\n",
    "\n",
    "message = client.messages.create( body=\"security alert face detecd\", from_='+19378136847', to='+919834843396')\n",
    "\n",
    "print(message.sid)"
   ]
  },
  {
   "cell_type": "code",
   "execution_count": null,
   "metadata": {},
   "outputs": [],
   "source": []
  }
 ],
 "metadata": {
  "kernelspec": {
   "display_name": "Python 3",
   "language": "python",
   "name": "python3"
  },
  "language_info": {
   "codemirror_mode": {
    "name": "ipython",
    "version": 3
   },
   "file_extension": ".py",
   "mimetype": "text/x-python",
   "name": "python",
   "nbconvert_exporter": "python",
   "pygments_lexer": "ipython3",
   "version": "3.8.5"
  }
 },
 "nbformat": 4,
 "nbformat_minor": 4
}
